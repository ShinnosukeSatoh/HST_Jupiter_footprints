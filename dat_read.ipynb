{
 "cells": [
  {
   "cell_type": "code",
   "execution_count": 1,
   "metadata": {},
   "outputs": [],
   "source": [
    "import numpy as np"
   ]
  },
  {
   "cell_type": "code",
   "execution_count": 5,
   "metadata": {},
   "outputs": [
    {
     "ename": "NameError",
     "evalue": "name 'n' is not defined",
     "output_type": "error",
     "traceback": [
      "\u001b[0;31m---------------------------------------------------------------------------\u001b[0m",
      "\u001b[0;31mNameError\u001b[0m                                 Traceback (most recent call last)",
      "\u001b[1;32m/Users/shin/Documents/Research/Jupiter/Codes/HST/dat_read.ipynb Cell 2\u001b[0m line \u001b[0;36m2\n\u001b[1;32m      <a href='vscode-notebook-cell:/Users/shin/Documents/Research/Jupiter/Codes/HST/dat_read.ipynb#W1sZmlsZQ%3D%3D?line=0'>1</a>\u001b[0m f \u001b[39m=\u001b[39m \u001b[39mopen\u001b[39m(\u001b[39m'\u001b[39m\u001b[39mdata/CITEP/EQUATOR.DAT\u001b[39m\u001b[39m'\u001b[39m, mode\u001b[39m=\u001b[39m\u001b[39m'\u001b[39m\u001b[39mrb\u001b[39m\u001b[39m'\u001b[39m)\n\u001b[0;32m----> <a href='vscode-notebook-cell:/Users/shin/Documents/Research/Jupiter/Codes/HST/dat_read.ipynb#W1sZmlsZQ%3D%3D?line=1'>2</a>\u001b[0m dat \u001b[39m=\u001b[39m np\u001b[39m.\u001b[39mfromfile(f,dtype\u001b[39m=\u001b[39m\u001b[39m'\u001b[39m\u001b[39muint16\u001b[39m\u001b[39m'\u001b[39m,count\u001b[39m=\u001b[39mn) \u001b[39m# numpyのarrayに変換\u001b[39;00m\n\u001b[1;32m      <a href='vscode-notebook-cell:/Users/shin/Documents/Research/Jupiter/Codes/HST/dat_read.ipynb#W1sZmlsZQ%3D%3D?line=2'>3</a>\u001b[0m f\u001b[39m.\u001b[39mclose()\n\u001b[1;32m      <a href='vscode-notebook-cell:/Users/shin/Documents/Research/Jupiter/Codes/HST/dat_read.ipynb#W1sZmlsZQ%3D%3D?line=3'>4</a>\u001b[0m \u001b[39mprint\u001b[39m(dat)\n",
      "\u001b[0;31mNameError\u001b[0m: name 'n' is not defined"
     ]
    }
   ],
   "source": [
    "f = open('data/CITEP/EQUATOR.DAT', mode='rb')\n",
    "dat = np.fromfile(f,dtype='uint16',count=n) # numpyのarrayに変換\n",
    "f.close()\n",
    "print(dat)"
   ]
  },
  {
   "cell_type": "code",
   "execution_count": null,
   "metadata": {},
   "outputs": [],
   "source": []
  }
 ],
 "metadata": {
  "kernelspec": {
   "display_name": "py3104",
   "language": "python",
   "name": "python3"
  },
  "language_info": {
   "codemirror_mode": {
    "name": "ipython",
    "version": 3
   },
   "file_extension": ".py",
   "mimetype": "text/x-python",
   "name": "python",
   "nbconvert_exporter": "python",
   "pygments_lexer": "ipython3",
   "version": "3.10.4"
  }
 },
 "nbformat": 4,
 "nbformat_minor": 2
}
